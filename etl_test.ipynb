{
 "cells": [
  {
   "cell_type": "code",
   "execution_count": 1,
   "metadata": {
    "editable": true
   },
   "outputs": [],
   "source": [
    "import configparser\n",
    "from datetime import datetime\n",
    "import os\n",
    "from pyspark.sql import SparkSession\n",
    "from pyspark.sql.functions import udf, col\n",
    "from pyspark.sql.functions import year, month, dayofmonth, hour, weekofyear, date_format\n",
    "\n",
    "\n",
    "config = configparser.ConfigParser()\n",
    "config.read('dl.cfg')\n",
    "\n",
    "os.environ['AWS_ACCESS_KEY_ID']=config['AWS']['AWS_ACCESS_KEY_ID']\n",
    "os.environ['AWS_SECRET_ACCESS_KEY']=config['AWS']['AWS_SECRET_ACCESS_KEY']\n"
   ]
  },
  {
   "cell_type": "code",
   "execution_count": 2,
   "metadata": {
    "editable": true
   },
   "outputs": [],
   "source": [
    "def create_spark_session():\n",
    "    spark = SparkSession \\\n",
    "        .builder \\\n",
    "        .config(\"spark.jars.packages\", \"org.apache.hadoop:hadoop-aws:2.7.0\") \\\n",
    "        .getOrCreate()\n",
    "    return spark\n",
    "\n"
   ]
  },
  {
   "cell_type": "code",
   "execution_count": 15,
   "metadata": {
    "editable": true
   },
   "outputs": [],
   "source": [
    "def process_song_data(spark, input_data, output_data):\n",
    "    # get filepath to song data file\n",
    "    song_data = input_data + 'song_data/*/*/*/*.json'\n",
    "    \n",
    "    # create song data schema \n",
    "    from pyspark.sql.types import StructType as R, StructField as Fld, DoubleType as Dbl, StringType as Str, IntegerType as Int, DateType as Date,TimestampType as Ts\n",
    "    songSchema = R([\n",
    "        Fld(\"song_id\",Str()),\n",
    "        Fld(\"title\",Str()),\n",
    "        Fld(\"duration\",Dbl()),\n",
    "        Fld(\"year\",Int()),\n",
    "        Fld(\"artist_id\",Str()),\n",
    "        Fld(\"artist_name\",Str()),\n",
    "        Fld(\"artist_latitude\",Str()),\n",
    "        Fld(\"artist_longitude\",Dbl()),\n",
    "        Fld(\"artist_location\",Dbl()),\n",
    "        Fld(\"num_songs\",Int()),\n",
    "    ])\n",
    "    \n",
    "    # read song data file\n",
    "    df = spark.read.json(song_data,schema=songSchema)\n",
    "\n",
    "    # define fields to be created in the extracted songs_table\n",
    "    songs_table_fields =[\"song_id\",\"title\",\"artist_id\",\"year\",\"duration\"]\n",
    "    \n",
    "    # extract columns to create songs table\n",
    "    songs_table = df.select(songs_table_fields).dropDuplicates()\n",
    "    \n",
    "    # write songs table to parquet files partitioned by year and artist\n",
    "    songs_table.write.partitionBy(\"year\",\"artist_id\").parquet(output_data + 'songs/')\n",
    "\n",
    "    # define artist table fields\n",
    "    artists_table_fields = [\"artist_id\", \"artist_name\", \"artist_location\", \"artist_latitude\", \"artist_longitude\"]\n",
    "    \n",
    "    # extract columns to create artists table\n",
    "    artists_table = df.select(artists_table_fields).dropDuplicates();\n",
    "    # write artists table to parquet files\n",
    "    artists_table.write.parquet(output_data + 'artists/')\n",
    "    "
   ]
  },
  {
   "cell_type": "code",
   "execution_count": 28,
   "metadata": {
    "editable": true
   },
   "outputs": [],
   "source": [
    "def process_log_data(spark, input_data, output_data):\n",
    "    from pyspark.sql.types import StructType as R, StructField as Fld, DoubleType as Dbl, StringType as Str, IntegerType as Int, DateType as Date,TimestampType\n",
    "    from pyspark.sql.functions import year, month,dayofweek,  dayofmonth, hour, weekofyear, date_format\n",
    "    from datetime import date, datetime\n",
    "    import  pyspark.sql.functions as F\n",
    "    import time\n",
    "    # get filepath to log data file\n",
    "    log_data = input_data + 'log-data/*/*/*.json'\n",
    "    # read log data file\n",
    "    df = spark.read.json(log_data)\n",
    "    \n",
    "    # filter by actions for song plays\n",
    "    df = df.filter(df.page == \"NextSong\")\n",
    "    \n",
    "    # define fields for user table\n",
    "    users_table_fields = [\"userId as user_id\", \"firstName as first_name\", \"lastName as last_name\", \"gender\", \"level\"]\n",
    "    \n",
    "    # extract columns for users table    \n",
    "    users_table = df.selectExpr(users_table_fields).dropDuplicates()\n",
    "    # write users table to parquet files\n",
    "    users_table.write.parquet(output_data + 'users/')\n",
    "\n",
    "    # create timestamp column from original timestamp column\n",
    "    get_timestamp = udf(lambda x: datetime.fromtimestamp(x // 1000).replace(microsecond=x % 1000),TimestampType())\n",
    "    df = df.withColumn(\"time\", get_timestamp('ts'))\n",
    "    \n",
    "    # extract columns to create time table\n",
    "    time_table = df.select(\"time\",\"ts\").dropDuplicates().withColumn(\"hour\", hour(col(\"time\"))).\\\n",
    "    withColumn(\"day\", dayofmonth(col(\"time\"))).withColumn(\"week\", dayofweek(col(\"time\"))).\\\n",
    "    withColumn(\"month\", month(col(\"time\"))).withColumn(\"year\", year(col(\"time\"))).\\\n",
    "    withColumn(\"weekday\", dayofweek(col(\"time\"))).select('ts','time','hour', 'day', 'week', 'month', 'year', 'weekday')\n",
    "   \n",
    "    # write time table to parquet files partitioned by year and month\n",
    "    time_table.write.partitionBy(\"year\", \"month\").parquet(output_data + 'time/')\n",
    "    \n",
    "    # read in song data to use for songplays table\n",
    "    print('read s ftom parq')\n",
    "    songs_table = spark.read.parquet(output_data + 'songs/*/*/*')\n",
    "    # read in artist data to use for songplays table\n",
    "    \n",
    "    artist_table= spark.read.parquet(output_data + 'artists/*')\n",
    "\n",
    "    time_table = time_table.selectExpr(\"time as dftime\",\"hour\",\"day\",\"week\",\"month\",\"year\",\n",
    "    \"weekday\" ) \n",
    "\n",
    "     # define columns for songs_plays table\n",
    "    songs_plays_table_fields = [\"userId as user_id\",\"level\",\"song_id\",\"artist_id\",\"playtime\",\"sessionId as session_id\", \"useragent as user_agent\",\"year\",\"month\"]\n",
    "    \n",
    "    # extract columns from joined song and log datasets to create songplays table \n",
    "    songplays_table = df.join(songs_table, [df.song == songs_table.title,df.length ==songs_table.duration]).join(time_table,df.ts ==time_table.playtime).join(artist_table,df.artist == artist_table.artist_name).selectExpr(songs_plays_table_fields).dropDuplicates()\n",
    "   \n",
    "    # write songplays table to parquet files partitioned by year and month\n",
    "    songplays_table.write.partitionBy('year', 'month').mode('overwrite').parquet(output_data + 'songplays/')"
   ]
  },
  {
   "cell_type": "code",
   "execution_count": 4,
   "metadata": {
    "editable": true
   },
   "outputs": [],
   "source": [
    "spark = create_spark_session()"
   ]
  },
  {
   "cell_type": "code",
   "execution_count": 5,
   "metadata": {
    "editable": true
   },
   "outputs": [],
   "source": [
    "input_data = \"s3a://udacity-dend/\"\n",
    "output_data = \"s3a://dengnd-demo-bucket/\"\n",
    "process_song_data(spark, input_data, output_data)    "
   ]
  },
  {
   "cell_type": "code",
   "execution_count": 29,
   "metadata": {
    "editable": true
   },
   "outputs": [
    {
     "name": "stdout",
     "output_type": "stream",
     "text": [
      "log read\n",
      "log filter\n",
      "user selection\n",
      "time convert\n",
      "+-------------+--------------------+----+---+----+-----+----+-------+\n",
      "|           ts|                time|hour|day|week|month|year|weekday|\n",
      "+-------------+--------------------+----+---+----+-----+----+-------+\n",
      "|1542279962796|2018-11-15 11:06:...|  11| 15|   5|   11|2018|      5|\n",
      "|1542283025796|2018-11-15 11:57:...|  11| 15|   5|   11|2018|      5|\n",
      "|1542294598796|2018-11-15 15:09:...|  15| 15|   5|   11|2018|      5|\n",
      "|1542822008796|2018-11-21 17:40:...|  17| 21|   4|   11|2018|      4|\n",
      "+-------------+--------------------+----+---+----+-----+----+-------+\n",
      "only showing top 4 rows\n",
      "\n",
      "time table\n",
      "time writing\n",
      "read s ftom parq\n",
      "read artist from parquet\n",
      "+---------------+---------+---------+------+-------------+--------+-------+-----+--------------------+------+--------+-----------------+---------+------+------+-------------+--------------------+------+--------------------+------------------+------+--------+--------------------+----+---+----+-----+----+-------+\n",
      "|         artist|     auth|firstName|gender|itemInSession|lastName| length|level|            location|method|    page|     registration|sessionId|  song|status|           ts|           userAgent|userId|                time|           song_id| title|duration|              dftime|hour|day|week|month|year|weekday|\n",
      "+---------------+---------+---------+------+-------------+--------+-------+-----+--------------------+------+--------+-----------------+---------+------+------+-------------+--------------------+------+--------------------+------------------+------+--------+--------------------+----+---+----+-----+----+-------+\n",
      "|Michael Jackson|Logged In|     Kate|     F|           32| Harrell|278.282| paid|Lansing-East Lans...|   PUT|NextSong|1.540472624796E12|      605|Scream|   200|1542298745796|\"Mozilla/5.0 (X11...|    97|2018-11-15 16:19:...|SOBLFFE12AF72AA5BA|Scream|213.9424|2018-11-15 16:19:...|  16| 15|   5|   11|2018|      5|\n",
      "+---------------+---------+---------+------+-------------+--------+-------+-----+--------------------+------+--------+-----------------+---------+------+------+-------------+--------------------+------+--------------------+------------------+------+--------+--------------------+----+---+----+-----+----+-------+\n",
      "\n",
      "join\n",
      "songplays write\n"
     ]
    }
   ],
   "source": [
    "process_log_data(spark, input_data, output_data)"
   ]
  },
  {
   "cell_type": "code",
   "execution_count": null,
   "metadata": {
    "editable": true
   },
   "outputs": [],
   "source": []
  },
  {
   "cell_type": "code",
   "execution_count": null,
   "metadata": {
    "editable": true
   },
   "outputs": [],
   "source": []
  }
 ],
 "metadata": {
  "kernelspec": {
   "display_name": "Python 3",
   "language": "python",
   "name": "python3"
  },
  "language_info": {
   "codemirror_mode": {
    "name": "ipython",
    "version": 3
   },
   "file_extension": ".py",
   "mimetype": "text/x-python",
   "name": "python",
   "nbconvert_exporter": "python",
   "pygments_lexer": "ipython3",
   "version": "3.6.3"
  }
 },
 "nbformat": 4,
 "nbformat_minor": 4
}
